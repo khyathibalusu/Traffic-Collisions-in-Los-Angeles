new = traffic_data['Location'].str.split(",", expand=True)
new2 = new[0].str.split(":", expand=True)
traffic_data['Latitude'] = new2[1].str.replace("'","")
traffic_data['Longitude'] = new[5].str.split(":", expand=True)[1].str.replace("'","").str.replace("}","")
